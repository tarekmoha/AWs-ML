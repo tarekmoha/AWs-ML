{
 "cells": [
  {
   "cell_type": "markdown",
   "metadata": {},
   "source": [
    "### AWS AI Services:\n",
    "\n",
    "- Health AI -- > turns medical Speech to text.\n",
    "- Industrial AI: Predict machines Faliures\n",
    "- Anommoly Detection.\n",
    "- Chatbots. AMazon lex\n",
    "- Personalizeatio. personalize\n",
    "- Forcast \n",
    "- Fraud Detection\n",
    "- Code Developement\n",
    "- Ams Recognition\n",
    "- Speech polly\n",
    "- Text Textract\n",
    "- Lens \"Analyze conv\" Sentimient\n",
    "- Kendra \"Search\""
   ]
  },
  {
   "cell_type": "markdown",
   "metadata": {},
   "source": [
    "### Machine learning with AWS:\n",
    "Sagemaker: Make it possible to train your models faster.\n",
    "\n",
    "1. Studio Build and traing\n",
    "2. AMazon ditributed training Deeplearning models faster\n",
    "3. Clrify Transparency and explaing model behave."
   ]
  },
  {
   "cell_type": "markdown",
   "metadata": {},
   "source": [
    "### ML Infreastructure:\n",
    "1. Services\n",
    "2. Freamworks\n",
    "3. Compute networking."
   ]
  },
  {
   "cell_type": "markdown",
   "metadata": {},
   "source": [
    "### COmputer vision:\n",
    "\n",
    "- Definition: Enables machine to detect patterns and gain high level knowledge in images and videos.\n",
    "- Uses neural networks.\n",
    "- Neural nets enables machines to learn patterns present in the data \n",
    "\n",
    "#### UseCases:\n",
    "- Proccess automation.\n",
    "- Content moderation\n",
    "- Safty monitoring\n",
    "- Visual search"
   ]
  },
  {
   "cell_type": "markdown",
   "metadata": {},
   "source": [
    "### Computer ision Tasks:\n",
    "1. Image Classifications:\n",
    "    - Sorting due to some characterestics.\n",
    "    - Text Detextion\n",
    "    - Content filtering.\n",
    "2. Object detection:\n",
    "    - Where these objects ?\n",
    "    - How many counts?\n",
    "    - Augmented reality\n",
    "3. Segmentations:\n",
    "    - Which pixels?\n",
    "4. Activity Recgnition:\n",
    "    - Videos."
   ]
  },
  {
   "cell_type": "markdown",
   "metadata": {},
   "source": [
    "## Reinforcement Learning:\n",
    "\n",
    "- Training a dog ?\n",
    "- Use case ? \n",
    "    - Playing Games.\n",
    "    - Wind Energy Optm\n",
    "    - Industrial\n",
    "    - Autonimuos\n",
    "    \n",
    "### Concepts:\n",
    "\n",
    "- Agent: Program you are trining\n",
    "- Environment suurounding area of agent\n",
    "- State: Current position\n",
    "- Actoin: Every state agent need and action\n",
    "- Feedback: Numrial reward\n",
    "- Rpisode: period of try and error\n",
    " "
   ]
  },
  {
   "cell_type": "code",
   "execution_count": null,
   "metadata": {},
   "outputs": [],
   "source": []
  }
 ],
 "metadata": {
  "kernelspec": {
   "display_name": "Python 3",
   "language": "python",
   "name": "python3"
  },
  "language_info": {
   "codemirror_mode": {
    "name": "ipython",
    "version": 3
   },
   "file_extension": ".py",
   "mimetype": "text/x-python",
   "name": "python",
   "nbconvert_exporter": "python",
   "pygments_lexer": "ipython3",
   "version": "3.8.5"
  }
 },
 "nbformat": 4,
 "nbformat_minor": 4
}
