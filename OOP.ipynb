{
 "cells": [
  {
   "cell_type": "markdown",
   "metadata": {},
   "source": [
    "# OOP:"
   ]
  },
  {
   "cell_type": "markdown",
   "metadata": {},
   "source": [
    "**outcomes:**\n",
    "1. OOP Syntax\n",
    "2. Build a pakage"
   ]
  },
  {
   "cell_type": "markdown",
   "metadata": {},
   "source": [
    "**Procedural VS OOP:**\n",
    "- <b>Procedural</b>: Set of instructions\n",
    "- <b>OOP</b>: Individual Objects\n",
    "\n",
    "**OOP:**\n",
    "Every object has Characteristics(Attributes) or actions(methods)\n",
    "\n",
    "**Class:**\n",
    "Generec object(blueprint) that has a all the attr and methods.\n",
    "\n",
    "**Object**\n",
    "Specific entity rom the class that has a specific attr and methods."
   ]
  },
  {
   "cell_type": "markdown",
   "metadata": {},
   "source": [
    "**Syntax:**"
   ]
  },
  {
   "cell_type": "code",
   "execution_count": 2,
   "metadata": {},
   "outputs": [],
   "source": [
    "#1. Creating the Class:\n",
    "class Shirt:\n",
    "    #2. Initialzing all the attributes with the right values.\n",
    "    def __init__(self, color, size, style, price):\n",
    "        #Creat an Object\n",
    "        self.color = color\n",
    "        self.size = size\n",
    "        self.style = style\n",
    "        self.price = price\n",
    "        #Self: Dict Makes Attr Avialble inside the class\n",
    "    def change_price(self, new_price):\n",
    "        #We use Self to access all the object attributes.\n",
    "        self.price = new_price\n",
    "    def discount(self, discount):\n",
    "        return self.price * ( 1 - discount )"
   ]
  },
  {
   "cell_type": "markdown",
   "metadata": {},
   "source": [
    "**Note:**\n",
    "- In OOP we are not supposed to use jupyter notebook and it's better to have a local editor.\n",
    "- Encapsulation?"
   ]
  },
  {
   "cell_type": "code",
   "execution_count": null,
   "metadata": {},
   "outputs": [],
   "source": []
  }
 ],
 "metadata": {
  "kernelspec": {
   "display_name": "Python 3",
   "language": "python",
   "name": "python3"
  },
  "language_info": {
   "codemirror_mode": {
    "name": "ipython",
    "version": 3
   },
   "file_extension": ".py",
   "mimetype": "text/x-python",
   "name": "python",
   "nbconvert_exporter": "python",
   "pygments_lexer": "ipython3",
   "version": "3.8.5"
  }
 },
 "nbformat": 4,
 "nbformat_minor": 4
}
