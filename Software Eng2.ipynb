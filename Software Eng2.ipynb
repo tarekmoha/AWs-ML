{
 "cells": [
  {
   "cell_type": "markdown",
   "metadata": {},
   "source": [
    "# Software engineering Pt2:"
   ]
  },
  {
   "cell_type": "markdown",
   "metadata": {},
   "source": [
    "## 1. Testing:\n",
    "\n",
    "**Def of test driven development** : \n",
    "    <p>Writing Tests besfore developing code to implement tasks.</p>\n",
    "**Data science problems:** \n",
    "1. Bad Encoding\n",
    "2. Inappropriate Features\n",
    "3. Unexpected Feature\n",
    "\n",
    "**1.1 Unit test:** \n",
    "    Test that covers a small unit of code, usually a function.\n",
    "    \n",
    "  **Using:**\n",
    "  1. Print with expected output\n",
    "  2. assert(condition)\n",
    "  3. Pytest library\n",
    "      - Create test_ file and git tests function with asserts inside it.\n",
    "      - Every dot means a 1 test wass suuccessful.\n",
    "      - Enter pytest in the file dirctory."
   ]
  },
  {
   "cell_type": "markdown",
   "metadata": {},
   "source": [
    "## 2. Logging:\n",
    "\n",
    "**Def:**\n",
    "<p>Logging is the process of recording messages to describe events that have occurred while running your software</p> \n",
    "\n",
    "**Tips to write a good logging meassages:** \n",
    "1. Professional and Clear\n",
    "2. Concise and Normal Capitaliaion\n",
    "3. Levels of logging:\n",
    "    - <b>Debug</b>: ANything that happens in the program.\n",
    "    - <b>Error</b>: Record any error occurs\n",
    "    - <b>Info</b>: Reoor all actions user or system specific.\n",
    "4. Provide any useful information."
   ]
  },
  {
   "cell_type": "markdown",
   "metadata": {},
   "source": [
    "## 3. Code reviews:\n",
    "\n",
    "**Questions to ask when reviewing:**\n",
    "1. Clean and modular?\n",
    "2. Code effeciency?\n",
    "3. Tested well ?\n",
    "4. Logging mesaages?\n",
    "5. Documanted well?\n",
    "\n",
    "**Tips for conducting a Review?:**\n",
    "1. Use code linter.\n",
    "2. Esplain and make suggestions\n",
    "3. Provide code examples."
   ]
  },
  {
   "cell_type": "code",
   "execution_count": null,
   "metadata": {},
   "outputs": [],
   "source": []
  }
 ],
 "metadata": {
  "kernelspec": {
   "display_name": "Python 3",
   "language": "python",
   "name": "python3"
  },
  "language_info": {
   "codemirror_mode": {
    "name": "ipython",
    "version": 3
   },
   "file_extension": ".py",
   "mimetype": "text/x-python",
   "name": "python",
   "nbconvert_exporter": "python",
   "pygments_lexer": "ipython3",
   "version": "3.8.5"
  }
 },
 "nbformat": 4,
 "nbformat_minor": 4
}
