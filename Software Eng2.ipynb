{
 "cells": [
  {
   "cell_type": "markdown",
   "metadata": {},
   "source": [
    "# Software engineering Pt2:"
   ]
  },
  {
   "cell_type": "markdown",
   "metadata": {},
   "source": [
    "## 1. Testing:\n",
    "\n",
    "**Def of test driven development** : \n",
    "    Writing Tests besfore developing code to implement tasks.\n",
    "**Data science problems:** \n",
    "1. Bad Encoding\n",
    "2. Inappropriate Features\n",
    "3. Unexpected Feature\n",
    "\n",
    "**1.1 Unit test:** \n",
    "    Test that covers a small unit of code, usually a function.\n",
    "    \n",
    "  **Using:**\n",
    "  1. Print with expected output\n",
    "  2. assert(condition)\n",
    "  3. Pytest library\n",
    "      - Create test_ file and git tests function with asserts inside it.\n",
    "      - Every dot means a 1 test wass suuccessful.\n",
    "      - Enter pytest in the file dirctory."
   ]
  },
  {
   "cell_type": "code",
   "execution_count": null,
   "metadata": {},
   "outputs": [],
   "source": []
  }
 ],
 "metadata": {
  "kernelspec": {
   "display_name": "Python 3",
   "language": "python",
   "name": "python3"
  },
  "language_info": {
   "codemirror_mode": {
    "name": "ipython",
    "version": 3
   },
   "file_extension": ".py",
   "mimetype": "text/x-python",
   "name": "python",
   "nbconvert_exporter": "python",
   "pygments_lexer": "ipython3",
   "version": "3.8.5"
  }
 },
 "nbformat": 4,
 "nbformat_minor": 4
}
