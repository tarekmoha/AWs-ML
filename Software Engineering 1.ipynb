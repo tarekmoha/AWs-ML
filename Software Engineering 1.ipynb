{
 "cells": [
  {
   "cell_type": "markdown",
   "metadata": {},
   "source": [
    "# Software engineering practices:"
   ]
  },
  {
   "cell_type": "markdown",
   "metadata": {},
   "source": [
    "1. Write a clean an modlar code.\n",
    "2. Improve code effeciency.\n",
    "3. Effective docs.\n",
    "4. use version control."
   ]
  },
  {
   "cell_type": "markdown",
   "metadata": {},
   "source": [
    "## 1. Clean and modular code:\n",
    "\n",
    "- Production code.\n",
    "\n",
    "1. Clean code: Readible, Simple and concise.\n",
    "2. Modular: Break up into Functions and modules."
   ]
  },
  {
   "cell_type": "markdown",
   "metadata": {},
   "source": [
    "    1.1 Refactoring code:\n",
    "        After Producing a ode that works, you can restructure it to in=mprove the internal code without effecting the external functionality of the code.\n",
    "        1.1.1 Why?\n",
    "            1. Reduce Wrokload.\n",
    "            2. Easier to maintain\n",
    "            3. Reuse your code\n",
    "            4. Become a better developer"
   ]
  },
  {
   "cell_type": "markdown",
   "metadata": {},
   "source": [
    "    1.2 How? \n",
    "        1. Meaningful names.\n",
    "        2. Use white space\n",
    "        3. 79 Rule !\n",
    "        4. DrY\n",
    "        5. Abstract code.\n",
    "        6. Minimize the number of entities, Functions and classes and modules.\n",
    "        7. Each function do onething.\n",
    "        8. MAx 3 param when possible."
   ]
  },
  {
   "cell_type": "markdown",
   "metadata": {},
   "source": [
    "## 2. Efficient Code:\n",
    "\n",
    "1. Reduce Time\n",
    "2. Reduce Memory"
   ]
  },
  {
   "cell_type": "markdown",
   "metadata": {},
   "source": [
    "    - How?\n",
    "        1. Use Vector operation over loops when posiible usin numy and pandas.\n",
    "        2. Know your data structures well."
   ]
  },
  {
   "cell_type": "markdown",
   "metadata": {},
   "source": [
    "## 3. Documentation:\n",
    "\n",
    "    Why? \n",
    "    - Help clarify complex parts\n",
    "    - Navigate easily\n",
    "    Type:\n",
    "    - Inline\n",
    "    - Docstrings\n",
    "    - Project level through Readme files"
   ]
  },
  {
   "cell_type": "markdown",
   "metadata": {},
   "source": [
    "## 4. Version Control:\n",
    "\n",
    "    Why?\n",
    "    - To collaborate with each other\n",
    "    - Making changes safe and fast.\n",
    "    - Dealing with manager it-ntersection\n",
    "    \n",
    "    Create and switch to a new branch called demographic from the develop branch\n",
    "\n",
    "`git checkout -b demographic`\n",
    "\n",
    "\n",
    "    Switch to the develop branch\n",
    "`git checkout develop`\n",
    "\n",
    "    Pull the latest changes in the develop branch\n",
    "\n",
    "`git pull`\n",
    "\n",
    "    Work on this new feature and commit as you go\n",
    "\n",
    "`git commit -m 'added gender recommendations`\n",
    "\n",
    "    Merge the friend_groups branch into the develop branch\n",
    "\n",
    "`git merge --no-ff friends_groups`\n",
    "\n",
    "    Push to the remote repository\n",
    "\n",
    "`git push origin develop`\n",
    "\n"
   ]
  },
  {
   "cell_type": "code",
   "execution_count": null,
   "metadata": {},
   "outputs": [],
   "source": []
  }
 ],
 "metadata": {
  "kernelspec": {
   "display_name": "Python 3",
   "language": "python",
   "name": "python3"
  },
  "language_info": {
   "codemirror_mode": {
    "name": "ipython",
    "version": 3
   },
   "file_extension": ".py",
   "mimetype": "text/x-python",
   "name": "python",
   "nbconvert_exporter": "python",
   "pygments_lexer": "ipython3",
   "version": "3.8.5"
  }
 },
 "nbformat": 4,
 "nbformat_minor": 4
}
