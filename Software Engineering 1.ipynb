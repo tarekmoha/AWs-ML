{
 "cells": [
  {
   "cell_type": "markdown",
   "metadata": {},
   "source": [
    "# Software engineering practices:"
   ]
  },
  {
   "cell_type": "markdown",
   "metadata": {},
   "source": [
    "1. Write a clean an modlar code.\n",
    "2. Improve code effeciency.\n",
    "3. Effective docs.\n",
    "4. use version control."
   ]
  },
  {
   "cell_type": "markdown",
   "metadata": {},
   "source": [
    "## 1. Clean and modular code:\n",
    "\n",
    "- Production code.\n",
    "\n",
    "1. Clean code: Readible, Simple and concise.\n",
    "2. Modular: Break up into Functions and modules."
   ]
  },
  {
   "cell_type": "markdown",
   "metadata": {},
   "source": [
    "    1.1 Refactoring code:\n",
    "        After Producing a ode that works, you can restructure it to in=mprove the internal code without effecting the external functionality of the code.\n",
    "        1.1.1 Why?\n",
    "            1. Reduce Wrokload.\n",
    "            2. Easier to maintain\n",
    "            3. Reuse your code\n",
    "            4. Become a better developer"
   ]
  },
  {
   "cell_type": "markdown",
   "metadata": {},
   "source": [
    "    1.2 How? \n",
    "        1. Meaningful names.\n",
    "        2. Use white space\n",
    "        3. 79 Rule !\n",
    "        4. DrY\n",
    "        5. Abstract code.\n",
    "        6. Minimize the number of entities, Functions and classes and modules.\n",
    "        7. Each function do onething.\n",
    "        8. MAx 3 param when possible."
   ]
  },
  {
   "cell_type": "markdown",
   "metadata": {},
   "source": [
    "## 2. Efficient Code:\n",
    "\n",
    "1. Reduce Time\n",
    "2. Reduce Memory"
   ]
  },
  {
   "cell_type": "markdown",
   "metadata": {},
   "source": [
    "    - How?\n",
    "        1. Use Vector operation over loops when posiible usin numy and pandas.\n",
    "        2. Know your data structures well."
   ]
  },
  {
   "cell_type": "markdown",
   "metadata": {},
   "source": [
    "## 3. Documentation:\n",
    "\n",
    "    Why? \n",
    "    - Help clarify complex parts\n",
    "    - Navigate easily\n",
    "    Type:\n",
    "    - Inline\n",
    "    - Docstrings\n",
    "    - Project level through Readme files"
   ]
  },
  {
   "cell_type": "markdown",
   "metadata": {},
   "source": [
    "## 4. Version Control:\n",
    "\n",
    "    Why?\n",
    "    - Tocollaborate with each other\n",
    "    1. Scenario #1\n",
    "\n",
    "Let's walk through the Git commands that go along with each step in the scenario you just observed in the video.\n",
    "Step 1: You have a local version of this repository on your laptop, and to get the latest stable version, you pull from the develop branch.\n",
    "\n",
    "    Switch to the develop branch\n",
    "`git checkout develop`\n",
    "\n",
    "    Pull the latest changes in the develop branch\n",
    "\n",
    "`git pull`\n",
    "\n",
    "Step 2: When you start working on this demographic feature, you create a new branch called demographic, and start working on your code in this branch.\n",
    "\n",
    "    Create and switch to a new branch called demographic from the develop branch\n",
    "\n",
    "`git checkout -b demographic`\n",
    "\n",
    "    Work on this new feature and commit as you go\n",
    "\n",
    "`git commit -m 'added gender recommendations`\n",
    "`git commit -m 'added location specific recommendations'\n",
    "    ...\n",
    "\n",
    "Step 3: However, in the middle of your work, you need to work on another feature. So you commit your changes on this demographic branch, and switch back to the develop branch.\n",
    "\n",
    "    Commit your changes before switching\n",
    "\n",
    "    git commit -m 'refactored demographic gender and location recommendations '\n",
    "\n",
    "    Switch to the develop branch\n",
    "\n",
    "    git checkout develop\n",
    "\n",
    "Step 4: From this stable develop branch, you create another branch for a new feature called friend_groups.\n",
    "\n",
    "    Create and switch to a new branch called friend_groups from the develop branch\n",
    "\n",
    "    git checkout -b friend_groups\n",
    "\n",
    "Step 5: After you finish your work on the friend_groups branch, you commit your changes, switch back to the development branch, merge it back to the develop branch, and push this to the remote repository’s develop branch.\n",
    "\n",
    "    Commit your changes before switching\n",
    "\n",
    "    git commit -m 'finalized friend_groups recommendations '\n",
    "\n",
    "    Switch to the develop branch\n",
    "\n",
    "    git checkout develop\n",
    "\n",
    "    Merge the friend_groups branch into the develop branch\n",
    "\n",
    "    git merge --no-ff friends_groups\n",
    "\n",
    "    Push to the remote repository\n",
    "\n",
    "    git push origin develop\n",
    "\n",
    "Step 6: Now, you can switch back to the demographic branch to continue your progress on that feature.\n",
    "\n",
    "    Switch to the demographic branch\n",
    "\n",
    "    git checkout demographic\n",
    "\n"
   ]
  },
  {
   "cell_type": "code",
   "execution_count": null,
   "metadata": {},
   "outputs": [],
   "source": []
  }
 ],
 "metadata": {
  "kernelspec": {
   "display_name": "Python 3",
   "language": "python",
   "name": "python3"
  },
  "language_info": {
   "codemirror_mode": {
    "name": "ipython",
    "version": 3
   },
   "file_extension": ".py",
   "mimetype": "text/x-python",
   "name": "python",
   "nbconvert_exporter": "python",
   "pygments_lexer": "ipython3",
   "version": "3.8.5"
  }
 },
 "nbformat": 4,
 "nbformat_minor": 4
}
